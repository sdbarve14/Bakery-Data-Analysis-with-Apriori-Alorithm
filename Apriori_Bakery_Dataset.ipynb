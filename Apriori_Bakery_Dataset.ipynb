{
 "cells": [
  {
   "cell_type": "code",
   "execution_count": 1,
   "metadata": {
    "extensions": {
     "jupyter_dashboards": {
      "version": 1,
      "views": {
       "grid_default": {},
       "report_default": {}
      }
     }
    }
   },
   "outputs": [],
   "source": [
    "import pandas as pd\n",
    "import numpy as np\n",
    "import matplotlib.pyplot as plt\n",
    "import seaborn as sns\n",
    "from mlxtend.frequent_patterns import apriori\n",
    "from mlxtend.frequent_patterns import association_rules\n",
    "import random\n",
    "from ipywidgets import interact\n",
    "df = pd.read_csv('BreadBasket_DMS.csv')"
   ]
  },
  {
   "cell_type": "code",
   "execution_count": 2,
   "metadata": {
    "extensions": {
     "jupyter_dashboards": {
      "version": 1,
      "views": {
       "grid_default": {},
       "report_default": {}
      }
     }
    }
   },
   "outputs": [],
   "source": [
    "#df.head()"
   ]
  },
  {
   "cell_type": "code",
   "execution_count": 3,
   "metadata": {
    "extensions": {
     "jupyter_dashboards": {
      "version": 1,
      "views": {
       "grid_default": {},
       "report_default": {}
      }
     }
    }
   },
   "outputs": [],
   "source": [
    "df['Item'] = df['Item'].str.strip()"
   ]
  },
  {
   "cell_type": "code",
   "execution_count": 4,
   "metadata": {
    "extensions": {
     "jupyter_dashboards": {
      "version": 1,
      "views": {
       "grid_default": {},
       "report_default": {}
      }
     }
    }
   },
   "outputs": [],
   "source": [
    "\n",
    "df['Quantity'] = np.random.randint(1, 5, df.shape[0])"
   ]
  },
  {
   "cell_type": "code",
   "execution_count": 5,
   "metadata": {
    "extensions": {
     "jupyter_dashboards": {
      "version": 1,
      "views": {
       "grid_default": {},
       "report_default": {}
      }
     }
    }
   },
   "outputs": [],
   "source": [
    "#df.head()"
   ]
  },
  {
   "cell_type": "code",
   "execution_count": 6,
   "metadata": {
    "extensions": {
     "jupyter_dashboards": {
      "version": 1,
      "views": {
       "grid_default": {},
       "report_default": {}
      }
     }
    }
   },
   "outputs": [],
   "source": [
    "grouping = (df.groupby(['Transaction','Item'])['Quantity']\n",
    "           .sum().unstack().reset_index().fillna(0)\n",
    "           .set_index('Transaction')) "
   ]
  },
  {
   "cell_type": "code",
   "execution_count": 7,
   "metadata": {
    "extensions": {
     "jupyter_dashboards": {
      "version": 1,
      "views": {
       "grid_default": {},
       "report_default": {}
      }
     }
    }
   },
   "outputs": [],
   "source": [
    "#grouping.head()"
   ]
  },
  {
   "cell_type": "code",
   "execution_count": 8,
   "metadata": {
    "extensions": {
     "jupyter_dashboards": {
      "version": 1,
      "views": {
       "grid_default": {},
       "report_default": {}
      }
     }
    }
   },
   "outputs": [],
   "source": [
    "def encode_units(x):\n",
    "    if x<=0:\n",
    "        return 0\n",
    "    if x>=1:\n",
    "        return 1"
   ]
  },
  {
   "cell_type": "code",
   "execution_count": 9,
   "metadata": {
    "extensions": {
     "jupyter_dashboards": {
      "version": 1,
      "views": {
       "grid_default": {},
       "report_default": {}
      }
     }
    }
   },
   "outputs": [],
   "source": [
    "grouping_sets = grouping.applymap(encode_units)\n",
    "#grouping_sets.drop('POSTAGE', inplace=True, axis=1)\n",
    "#grouping_sets.head()"
   ]
  },
  {
   "cell_type": "markdown",
   "metadata": {
    "extensions": {
     "jupyter_dashboards": {
      "version": 1,
      "views": {
       "grid_default": {},
       "report_default": {}
      }
     }
    }
   },
   "source": [
    "SUPPORT 0.01"
   ]
  },
  {
   "cell_type": "code",
   "execution_count": 10,
   "metadata": {
    "extensions": {
     "jupyter_dashboards": {
      "version": 1,
      "views": {
       "grid_default": {},
       "report_default": {}
      }
     }
    }
   },
   "outputs": [],
   "source": [
    "frequent_itemsets = apriori(grouping_sets, min_support=0.01, use_colnames=True)"
   ]
  },
  {
   "cell_type": "code",
   "execution_count": 11,
   "metadata": {
    "extensions": {
     "jupyter_dashboards": {
      "version": 1,
      "views": {
       "grid_default": {},
       "report_default": {}
      }
     }
    }
   },
   "outputs": [],
   "source": [
    "rules_1 = association_rules(frequent_itemsets, metric=\"lift\", min_threshold=1)"
   ]
  },
  {
   "cell_type": "code",
   "execution_count": 15,
   "metadata": {
    "extensions": {
     "jupyter_dashboards": {
      "version": 1,
      "views": {
       "grid_default": {},
       "report_default": {}
      }
     }
    }
   },
   "outputs": [
    {
     "data": {
      "text/html": [
       "<div>\n",
       "<style scoped>\n",
       "    .dataframe tbody tr th:only-of-type {\n",
       "        vertical-align: middle;\n",
       "    }\n",
       "\n",
       "    .dataframe tbody tr th {\n",
       "        vertical-align: top;\n",
       "    }\n",
       "\n",
       "    .dataframe thead th {\n",
       "        text-align: right;\n",
       "    }\n",
       "</style>\n",
       "<table border=\"1\" class=\"dataframe\">\n",
       "  <thead>\n",
       "    <tr style=\"text-align: right;\">\n",
       "      <th></th>\n",
       "      <th>antecedents</th>\n",
       "      <th>consequents</th>\n",
       "      <th>antecedent support</th>\n",
       "      <th>consequent support</th>\n",
       "      <th>support</th>\n",
       "      <th>confidence</th>\n",
       "      <th>lift</th>\n",
       "      <th>leverage</th>\n",
       "      <th>conviction</th>\n",
       "    </tr>\n",
       "  </thead>\n",
       "  <tbody>\n",
       "    <tr>\n",
       "      <th>0</th>\n",
       "      <td>(Alfajores)</td>\n",
       "      <td>(Coffee)</td>\n",
       "      <td>0.036093</td>\n",
       "      <td>0.475081</td>\n",
       "      <td>0.019515</td>\n",
       "      <td>0.540698</td>\n",
       "      <td>1.138116</td>\n",
       "      <td>0.002368</td>\n",
       "      <td>1.142861</td>\n",
       "    </tr>\n",
       "    <tr>\n",
       "      <th>1</th>\n",
       "      <td>(Coffee)</td>\n",
       "      <td>(Alfajores)</td>\n",
       "      <td>0.475081</td>\n",
       "      <td>0.036093</td>\n",
       "      <td>0.019515</td>\n",
       "      <td>0.041078</td>\n",
       "      <td>1.138116</td>\n",
       "      <td>0.002368</td>\n",
       "      <td>1.005199</td>\n",
       "    </tr>\n",
       "    <tr>\n",
       "      <th>2</th>\n",
       "      <td>(Pastry)</td>\n",
       "      <td>(Bread)</td>\n",
       "      <td>0.085510</td>\n",
       "      <td>0.324940</td>\n",
       "      <td>0.028958</td>\n",
       "      <td>0.338650</td>\n",
       "      <td>1.042194</td>\n",
       "      <td>0.001172</td>\n",
       "      <td>1.020731</td>\n",
       "    </tr>\n",
       "    <tr>\n",
       "      <th>3</th>\n",
       "      <td>(Bread)</td>\n",
       "      <td>(Pastry)</td>\n",
       "      <td>0.324940</td>\n",
       "      <td>0.085510</td>\n",
       "      <td>0.028958</td>\n",
       "      <td>0.089119</td>\n",
       "      <td>1.042194</td>\n",
       "      <td>0.001172</td>\n",
       "      <td>1.003961</td>\n",
       "    </tr>\n",
       "    <tr>\n",
       "      <th>4</th>\n",
       "      <td>(Coffee)</td>\n",
       "      <td>(Brownie)</td>\n",
       "      <td>0.475081</td>\n",
       "      <td>0.039765</td>\n",
       "      <td>0.019515</td>\n",
       "      <td>0.041078</td>\n",
       "      <td>1.033013</td>\n",
       "      <td>0.000624</td>\n",
       "      <td>1.001369</td>\n",
       "    </tr>\n",
       "  </tbody>\n",
       "</table>\n",
       "</div>"
      ],
      "text/plain": [
       "   antecedents  consequents  antecedent support  consequent support   support  \\\n",
       "0  (Alfajores)     (Coffee)            0.036093            0.475081  0.019515   \n",
       "1     (Coffee)  (Alfajores)            0.475081            0.036093  0.019515   \n",
       "2     (Pastry)      (Bread)            0.085510            0.324940  0.028958   \n",
       "3      (Bread)     (Pastry)            0.324940            0.085510  0.028958   \n",
       "4     (Coffee)    (Brownie)            0.475081            0.039765  0.019515   \n",
       "\n",
       "   confidence      lift  leverage  conviction  \n",
       "0    0.540698  1.138116  0.002368    1.142861  \n",
       "1    0.041078  1.138116  0.002368    1.005199  \n",
       "2    0.338650  1.042194  0.001172    1.020731  \n",
       "3    0.089119  1.042194  0.001172    1.003961  \n",
       "4    0.041078  1.033013  0.000624    1.001369  "
      ]
     },
     "execution_count": 15,
     "metadata": {},
     "output_type": "execute_result"
    }
   ],
   "source": [
    "rules_1.head()\n",
    "#rules_1.to_csv('rules_1.csv')"
   ]
  },
  {
   "cell_type": "code",
   "execution_count": 17,
   "metadata": {
    "extensions": {
     "jupyter_dashboards": {
      "version": 1,
      "views": {
       "grid_default": {},
       "report_default": {}
      }
     }
    },
    "scrolled": true
   },
   "outputs": [
    {
     "data": {
      "text/html": [
       "<div>\n",
       "<style scoped>\n",
       "    .dataframe tbody tr th:only-of-type {\n",
       "        vertical-align: middle;\n",
       "    }\n",
       "\n",
       "    .dataframe tbody tr th {\n",
       "        vertical-align: top;\n",
       "    }\n",
       "\n",
       "    .dataframe thead th {\n",
       "        text-align: right;\n",
       "    }\n",
       "</style>\n",
       "<table border=\"1\" class=\"dataframe\">\n",
       "  <thead>\n",
       "    <tr style=\"text-align: right;\">\n",
       "      <th></th>\n",
       "      <th>Id</th>\n",
       "      <th>antecedents</th>\n",
       "      <th>consequents</th>\n",
       "      <th>antecedent support</th>\n",
       "      <th>consequent support</th>\n",
       "      <th>support</th>\n",
       "      <th>confidence</th>\n",
       "      <th>lift</th>\n",
       "      <th>leverage</th>\n",
       "      <th>conviction</th>\n",
       "    </tr>\n",
       "  </thead>\n",
       "  <tbody>\n",
       "    <tr>\n",
       "      <th>0</th>\n",
       "      <td>0</td>\n",
       "      <td>frozenset({'Alfajores'})</td>\n",
       "      <td>frozenset({'Coffee'})</td>\n",
       "      <td>0.036093</td>\n",
       "      <td>0.475081</td>\n",
       "      <td>0.019515</td>\n",
       "      <td>0.540698</td>\n",
       "      <td>1.138116</td>\n",
       "      <td>0.002368</td>\n",
       "      <td>1.142861</td>\n",
       "    </tr>\n",
       "    <tr>\n",
       "      <th>1</th>\n",
       "      <td>1</td>\n",
       "      <td>frozenset({'Coffee'})</td>\n",
       "      <td>frozenset({'Alfajores'})</td>\n",
       "      <td>0.475081</td>\n",
       "      <td>0.036093</td>\n",
       "      <td>0.019515</td>\n",
       "      <td>0.041078</td>\n",
       "      <td>1.138116</td>\n",
       "      <td>0.002368</td>\n",
       "      <td>1.005199</td>\n",
       "    </tr>\n",
       "    <tr>\n",
       "      <th>2</th>\n",
       "      <td>2</td>\n",
       "      <td>frozenset({'Pastry'})</td>\n",
       "      <td>frozenset({'Bread'})</td>\n",
       "      <td>0.085510</td>\n",
       "      <td>0.324940</td>\n",
       "      <td>0.028958</td>\n",
       "      <td>0.338650</td>\n",
       "      <td>1.042194</td>\n",
       "      <td>0.001172</td>\n",
       "      <td>1.020731</td>\n",
       "    </tr>\n",
       "    <tr>\n",
       "      <th>3</th>\n",
       "      <td>3</td>\n",
       "      <td>frozenset({'Bread'})</td>\n",
       "      <td>frozenset({'Pastry'})</td>\n",
       "      <td>0.324940</td>\n",
       "      <td>0.085510</td>\n",
       "      <td>0.028958</td>\n",
       "      <td>0.089119</td>\n",
       "      <td>1.042194</td>\n",
       "      <td>0.001172</td>\n",
       "      <td>1.003961</td>\n",
       "    </tr>\n",
       "    <tr>\n",
       "      <th>4</th>\n",
       "      <td>4</td>\n",
       "      <td>frozenset({'Coffee'})</td>\n",
       "      <td>frozenset({'Brownie'})</td>\n",
       "      <td>0.475081</td>\n",
       "      <td>0.039765</td>\n",
       "      <td>0.019515</td>\n",
       "      <td>0.041078</td>\n",
       "      <td>1.033013</td>\n",
       "      <td>0.000624</td>\n",
       "      <td>1.001369</td>\n",
       "    </tr>\n",
       "  </tbody>\n",
       "</table>\n",
       "</div>"
      ],
      "text/plain": [
       "   Id               antecedents               consequents  antecedent support  \\\n",
       "0   0  frozenset({'Alfajores'})     frozenset({'Coffee'})            0.036093   \n",
       "1   1     frozenset({'Coffee'})  frozenset({'Alfajores'})            0.475081   \n",
       "2   2     frozenset({'Pastry'})      frozenset({'Bread'})            0.085510   \n",
       "3   3      frozenset({'Bread'})     frozenset({'Pastry'})            0.324940   \n",
       "4   4     frozenset({'Coffee'})    frozenset({'Brownie'})            0.475081   \n",
       "\n",
       "   consequent support   support  confidence      lift  leverage  conviction  \n",
       "0            0.475081  0.019515    0.540698  1.138116  0.002368    1.142861  \n",
       "1            0.036093  0.019515    0.041078  1.138116  0.002368    1.005199  \n",
       "2            0.324940  0.028958    0.338650  1.042194  0.001172    1.020731  \n",
       "3            0.085510  0.028958    0.089119  1.042194  0.001172    1.003961  \n",
       "4            0.039765  0.019515    0.041078  1.033013  0.000624    1.001369  "
      ]
     },
     "execution_count": 17,
     "metadata": {},
     "output_type": "execute_result"
    }
   ],
   "source": [
    "temp = pd.read_csv('rules_1.csv')\n",
    "temp.head()\n"
   ]
  },
  {
   "cell_type": "code",
   "execution_count": null,
   "metadata": {
    "extensions": {
     "jupyter_dashboards": {
      "version": 1,
      "views": {
       "grid_default": {},
       "report_default": {}
      }
     }
    }
   },
   "outputs": [],
   "source": []
  },
  {
   "cell_type": "code",
   "execution_count": null,
   "metadata": {
    "extensions": {
     "jupyter_dashboards": {
      "version": 1,
      "views": {
       "grid_default": {},
       "report_default": {}
      }
     }
    }
   },
   "outputs": [],
   "source": []
  },
  {
   "cell_type": "code",
   "execution_count": null,
   "metadata": {
    "extensions": {
     "jupyter_dashboards": {
      "version": 1,
      "views": {
       "grid_default": {},
       "report_default": {}
      }
     }
    }
   },
   "outputs": [],
   "source": []
  },
  {
   "cell_type": "code",
   "execution_count": null,
   "metadata": {
    "extensions": {
     "jupyter_dashboards": {
      "version": 1,
      "views": {
       "grid_default": {},
       "report_default": {}
      }
     }
    }
   },
   "outputs": [],
   "source": []
  },
  {
   "cell_type": "code",
   "execution_count": null,
   "metadata": {
    "extensions": {
     "jupyter_dashboards": {
      "version": 1,
      "views": {
       "grid_default": {},
       "report_default": {}
      }
     }
    }
   },
   "outputs": [],
   "source": []
  },
  {
   "cell_type": "code",
   "execution_count": 18,
   "metadata": {
    "extensions": {
     "jupyter_dashboards": {
      "version": 1,
      "views": {
       "grid_default": {},
       "report_default": {}
      }
     }
    }
   },
   "outputs": [
    {
     "name": "stderr",
     "output_type": "stream",
     "text": [
      "No handles with labels found to put in legend.\n"
     ]
    },
    {
     "data": {
      "text/plain": [
       "<matplotlib.collections.PathCollection at 0x206a9a6a160>"
      ]
     },
     "execution_count": 18,
     "metadata": {},
     "output_type": "execute_result"
    },
    {
     "data": {
      "image/png": "[encoded data removed]",
      "text/plain": [
       "<Figure size 432x288 with 1 Axes>"
      ]
     },
     "metadata": {
      "needs_background": "light"
     },
     "output_type": "display_data"
    }
   ],
   "source": [
    "#abc_1.plot(kind='line')\n",
    "plt.title('Support 0.01')\n",
    "plt.legend().remove()\n",
    "plt.xlabel('Confidence')\n",
    "plt.ylabel('No of rules')\n",
    "#plt.bar(abc_1[0], abc_1[1])\n",
    "#sns.countplot(x = 'confidence', data = rules_1 )\n",
    "plt.scatter(temp['confidence'], temp['Id'])"
   ]
  },
  {
   "cell_type": "code",
   "execution_count": 20,
   "metadata": {
    "extensions": {
     "jupyter_dashboards": {
      "version": 1,
      "views": {
       "grid_default": {},
       "report_default": {}
      }
     }
    }
   },
   "outputs": [
    {
     "data": {
      "text/plain": [
       "<Figure size 432x288 with 0 Axes>"
      ]
     },
     "metadata": {},
     "output_type": "display_data"
    }
   ],
   "source": [
    "plt.savefig('0.01.png')"
   ]
  },
  {
   "cell_type": "code",
   "execution_count": null,
   "metadata": {
    "extensions": {
     "jupyter_dashboards": {
      "version": 1,
      "views": {
       "grid_default": {},
       "report_default": {}
      }
     }
    }
   },
   "outputs": [],
   "source": []
  },
  {
   "cell_type": "code",
   "execution_count": null,
   "metadata": {
    "extensions": {
     "jupyter_dashboards": {
      "version": 1,
      "views": {
       "grid_default": {},
       "report_default": {}
      }
     }
    }
   },
   "outputs": [],
   "source": []
  },
  {
   "cell_type": "code",
   "execution_count": null,
   "metadata": {
    "extensions": {
     "jupyter_dashboards": {
      "version": 1,
      "views": {
       "grid_default": {},
       "report_default": {}
      }
     }
    }
   },
   "outputs": [],
   "source": []
  },
  {
   "cell_type": "code",
   "execution_count": null,
   "metadata": {
    "extensions": {
     "jupyter_dashboards": {
      "version": 1,
      "views": {
       "grid_default": {},
       "report_default": {}
      }
     }
    }
   },
   "outputs": [],
   "source": []
  },
  {
   "cell_type": "markdown",
   "metadata": {
    "extensions": {
     "jupyter_dashboards": {
      "version": 1,
      "views": {
       "grid_default": {},
       "report_default": {}
      }
     }
    }
   },
   "source": [
    "SUPPORT 0.02"
   ]
  },
  {
   "cell_type": "code",
   "execution_count": 21,
   "metadata": {
    "extensions": {
     "jupyter_dashboards": {
      "version": 1,
      "views": {
       "grid_default": {},
       "report_default": {}
      }
     }
    }
   },
   "outputs": [],
   "source": [
    "frequent_itemsets = apriori(grouping_sets, min_support=0.02, use_colnames=True)"
   ]
  },
  {
   "cell_type": "code",
   "execution_count": 22,
   "metadata": {
    "extensions": {
     "jupyter_dashboards": {
      "version": 1,
      "views": {
       "grid_default": {},
       "report_default": {}
      }
     }
    }
   },
   "outputs": [],
   "source": [
    "rules_2 = association_rules(frequent_itemsets, metric=\"lift\", min_threshold=1)"
   ]
  },
  {
   "cell_type": "code",
   "execution_count": 47,
   "metadata": {
    "extensions": {
     "jupyter_dashboards": {
      "version": 1,
      "views": {
       "grid_default": {},
       "report_default": {}
      }
     }
    }
   },
   "outputs": [
    {
     "data": {
      "text/html": [
       "<div>\n",
       "<style scoped>\n",
       "    .dataframe tbody tr th:only-of-type {\n",
       "        vertical-align: middle;\n",
       "    }\n",
       "\n",
       "    .dataframe tbody tr th {\n",
       "        vertical-align: top;\n",
       "    }\n",
       "\n",
       "    .dataframe thead th {\n",
       "        text-align: right;\n",
       "    }\n",
       "</style>\n",
       "<table border=\"1\" class=\"dataframe\">\n",
       "  <thead>\n",
       "    <tr style=\"text-align: right;\">\n",
       "      <th></th>\n",
       "      <th>antecedents</th>\n",
       "      <th>consequents</th>\n",
       "      <th>antecedent support</th>\n",
       "      <th>consequent support</th>\n",
       "      <th>support</th>\n",
       "      <th>confidence</th>\n",
       "      <th>lift</th>\n",
       "      <th>leverage</th>\n",
       "      <th>conviction</th>\n",
       "    </tr>\n",
       "  </thead>\n",
       "  <tbody>\n",
       "    <tr>\n",
       "      <th>0</th>\n",
       "      <td>(Pastry)</td>\n",
       "      <td>(Bread)</td>\n",
       "      <td>0.085510</td>\n",
       "      <td>0.324940</td>\n",
       "      <td>0.028958</td>\n",
       "      <td>0.338650</td>\n",
       "      <td>1.042194</td>\n",
       "      <td>0.001172</td>\n",
       "      <td>1.020731</td>\n",
       "    </tr>\n",
       "    <tr>\n",
       "      <th>1</th>\n",
       "      <td>(Bread)</td>\n",
       "      <td>(Pastry)</td>\n",
       "      <td>0.324940</td>\n",
       "      <td>0.085510</td>\n",
       "      <td>0.028958</td>\n",
       "      <td>0.089119</td>\n",
       "      <td>1.042194</td>\n",
       "      <td>0.001172</td>\n",
       "      <td>1.003961</td>\n",
       "    </tr>\n",
       "    <tr>\n",
       "      <th>2</th>\n",
       "      <td>(Coffee)</td>\n",
       "      <td>(Cake)</td>\n",
       "      <td>0.475081</td>\n",
       "      <td>0.103137</td>\n",
       "      <td>0.054349</td>\n",
       "      <td>0.114399</td>\n",
       "      <td>1.109196</td>\n",
       "      <td>0.005350</td>\n",
       "      <td>1.012717</td>\n",
       "    </tr>\n",
       "    <tr>\n",
       "      <th>3</th>\n",
       "      <td>(Cake)</td>\n",
       "      <td>(Coffee)</td>\n",
       "      <td>0.103137</td>\n",
       "      <td>0.475081</td>\n",
       "      <td>0.054349</td>\n",
       "      <td>0.526958</td>\n",
       "      <td>1.109196</td>\n",
       "      <td>0.005350</td>\n",
       "      <td>1.109667</td>\n",
       "    </tr>\n",
       "    <tr>\n",
       "      <th>4</th>\n",
       "      <td>(Tea)</td>\n",
       "      <td>(Cake)</td>\n",
       "      <td>0.141643</td>\n",
       "      <td>0.103137</td>\n",
       "      <td>0.023607</td>\n",
       "      <td>0.166667</td>\n",
       "      <td>1.615972</td>\n",
       "      <td>0.008999</td>\n",
       "      <td>1.076235</td>\n",
       "    </tr>\n",
       "  </tbody>\n",
       "</table>\n",
       "</div>"
      ],
      "text/plain": [
       "  antecedents consequents  antecedent support  consequent support   support  \\\n",
       "0    (Pastry)     (Bread)            0.085510            0.324940  0.028958   \n",
       "1     (Bread)    (Pastry)            0.324940            0.085510  0.028958   \n",
       "2    (Coffee)      (Cake)            0.475081            0.103137  0.054349   \n",
       "3      (Cake)    (Coffee)            0.103137            0.475081  0.054349   \n",
       "4       (Tea)      (Cake)            0.141643            0.103137  0.023607   \n",
       "\n",
       "   confidence      lift  leverage  conviction  \n",
       "0    0.338650  1.042194  0.001172    1.020731  \n",
       "1    0.089119  1.042194  0.001172    1.003961  \n",
       "2    0.114399  1.109196  0.005350    1.012717  \n",
       "3    0.526958  1.109196  0.005350    1.109667  \n",
       "4    0.166667  1.615972  0.008999    1.076235  "
      ]
     },
     "execution_count": 47,
     "metadata": {},
     "output_type": "execute_result"
    }
   ],
   "source": [
    "rules_2.head()"
   ]
  },
  {
   "cell_type": "code",
   "execution_count": 31,
   "metadata": {
    "extensions": {
     "jupyter_dashboards": {
      "version": 1,
      "views": {
       "grid_default": {},
       "report_default": {}
      }
     }
    }
   },
   "outputs": [],
   "source": [
    "rules_2.to_csv('rules_2.csv')"
   ]
  },
  {
   "cell_type": "code",
   "execution_count": 24,
   "metadata": {
    "extensions": {
     "jupyter_dashboards": {
      "version": 1,
      "views": {
       "grid_default": {},
       "report_default": {}
      }
     }
    }
   },
   "outputs": [],
   "source": [
    "temp_2 = pd.read_csv('rules_2.csv')\n",
    "#temp_2.head()"
   ]
  },
  {
   "cell_type": "code",
   "execution_count": null,
   "metadata": {
    "extensions": {
     "jupyter_dashboards": {
      "version": 1,
      "views": {
       "grid_default": {},
       "report_default": {}
      }
     }
    }
   },
   "outputs": [],
   "source": []
  },
  {
   "cell_type": "code",
   "execution_count": 25,
   "metadata": {
    "extensions": {
     "jupyter_dashboards": {
      "version": 1,
      "views": {
       "grid_default": {},
       "report_default": {}
      }
     }
    }
   },
   "outputs": [
    {
     "name": "stderr",
     "output_type": "stream",
     "text": [
      "No handles with labels found to put in legend.\n"
     ]
    },
    {
     "data": {
      "text/plain": [
       "<matplotlib.collections.PathCollection at 0x206aad30b00>"
      ]
     },
     "execution_count": 25,
     "metadata": {},
     "output_type": "execute_result"
    },
    {
     "data": {
      "image/png": "[encoded data removed]",
      "text/plain": [
       "<Figure size 432x288 with 1 Axes>"
      ]
     },
     "metadata": {
      "needs_background": "light"
     },
     "output_type": "display_data"
    }
   ],
   "source": [
    "#abc_1.plot(kind='line')\n",
    "plt.title('Support 0.02')\n",
    "plt.legend().remove()\n",
    "plt.xlabel('Confidence')\n",
    "plt.ylabel('No of rules')\n",
    "#plt.bar(abc_1[0], abc_1[1])\n",
    "#sns.countplot(x = 'confidence', data = rules_1 )\n",
    "plt.scatter(temp_2['confidence'], temp_2['Id'])"
   ]
  },
  {
   "cell_type": "code",
   "execution_count": 27,
   "metadata": {
    "extensions": {
     "jupyter_dashboards": {
      "version": 1,
      "views": {
       "grid_default": {},
       "report_default": {}
      }
     }
    }
   },
   "outputs": [
    {
     "data": {
      "text/plain": [
       "<Figure size 432x288 with 0 Axes>"
      ]
     },
     "metadata": {},
     "output_type": "display_data"
    }
   ],
   "source": [
    "plt.savefig('0.02.png')"
   ]
  },
  {
   "cell_type": "markdown",
   "metadata": {
    "extensions": {
     "jupyter_dashboards": {
      "version": 1,
      "views": {
       "grid_default": {},
       "report_default": {}
      }
     }
    }
   },
   "source": [
    "SUPPORT 0.03"
   ]
  },
  {
   "cell_type": "code",
   "execution_count": 28,
   "metadata": {
    "extensions": {
     "jupyter_dashboards": {
      "version": 1,
      "views": {
       "grid_default": {},
       "report_default": {}
      }
     }
    }
   },
   "outputs": [],
   "source": [
    "frequent_itemsets = apriori(grouping_sets, min_support=0.03, use_colnames=True)\n",
    "rules_3 = association_rules(frequent_itemsets, metric=\"lift\", min_threshold=1)"
   ]
  },
  {
   "cell_type": "code",
   "execution_count": 48,
   "metadata": {
    "extensions": {
     "jupyter_dashboards": {
      "version": 1,
      "views": {
       "grid_default": {},
       "report_default": {}
      }
     }
    }
   },
   "outputs": [
    {
     "data": {
      "text/html": [
       "<div>\n",
       "<style scoped>\n",
       "    .dataframe tbody tr th:only-of-type {\n",
       "        vertical-align: middle;\n",
       "    }\n",
       "\n",
       "    .dataframe tbody tr th {\n",
       "        vertical-align: top;\n",
       "    }\n",
       "\n",
       "    .dataframe thead th {\n",
       "        text-align: right;\n",
       "    }\n",
       "</style>\n",
       "<table border=\"1\" class=\"dataframe\">\n",
       "  <thead>\n",
       "    <tr style=\"text-align: right;\">\n",
       "      <th></th>\n",
       "      <th>antecedents</th>\n",
       "      <th>consequents</th>\n",
       "      <th>antecedent support</th>\n",
       "      <th>consequent support</th>\n",
       "      <th>support</th>\n",
       "      <th>confidence</th>\n",
       "      <th>lift</th>\n",
       "      <th>leverage</th>\n",
       "      <th>conviction</th>\n",
       "    </tr>\n",
       "  </thead>\n",
       "  <tbody>\n",
       "    <tr>\n",
       "      <th>0</th>\n",
       "      <td>(Coffee)</td>\n",
       "      <td>(Cake)</td>\n",
       "      <td>0.475081</td>\n",
       "      <td>0.103137</td>\n",
       "      <td>0.054349</td>\n",
       "      <td>0.114399</td>\n",
       "      <td>1.109196</td>\n",
       "      <td>0.005350</td>\n",
       "      <td>1.012717</td>\n",
       "    </tr>\n",
       "    <tr>\n",
       "      <th>1</th>\n",
       "      <td>(Cake)</td>\n",
       "      <td>(Coffee)</td>\n",
       "      <td>0.103137</td>\n",
       "      <td>0.475081</td>\n",
       "      <td>0.054349</td>\n",
       "      <td>0.526958</td>\n",
       "      <td>1.109196</td>\n",
       "      <td>0.005350</td>\n",
       "      <td>1.109667</td>\n",
       "    </tr>\n",
       "    <tr>\n",
       "      <th>2</th>\n",
       "      <td>(Coffee)</td>\n",
       "      <td>(Medialuna)</td>\n",
       "      <td>0.475081</td>\n",
       "      <td>0.061379</td>\n",
       "      <td>0.034939</td>\n",
       "      <td>0.073542</td>\n",
       "      <td>1.198175</td>\n",
       "      <td>0.005779</td>\n",
       "      <td>1.013129</td>\n",
       "    </tr>\n",
       "    <tr>\n",
       "      <th>3</th>\n",
       "      <td>(Medialuna)</td>\n",
       "      <td>(Coffee)</td>\n",
       "      <td>0.061379</td>\n",
       "      <td>0.475081</td>\n",
       "      <td>0.034939</td>\n",
       "      <td>0.569231</td>\n",
       "      <td>1.198175</td>\n",
       "      <td>0.005779</td>\n",
       "      <td>1.218561</td>\n",
       "    </tr>\n",
       "    <tr>\n",
       "      <th>4</th>\n",
       "      <td>(Coffee)</td>\n",
       "      <td>(Pastry)</td>\n",
       "      <td>0.475081</td>\n",
       "      <td>0.085510</td>\n",
       "      <td>0.047214</td>\n",
       "      <td>0.099382</td>\n",
       "      <td>1.162216</td>\n",
       "      <td>0.006590</td>\n",
       "      <td>1.015402</td>\n",
       "    </tr>\n",
       "  </tbody>\n",
       "</table>\n",
       "</div>"
      ],
      "text/plain": [
       "   antecedents  consequents  antecedent support  consequent support   support  \\\n",
       "0     (Coffee)       (Cake)            0.475081            0.103137  0.054349   \n",
       "1       (Cake)     (Coffee)            0.103137            0.475081  0.054349   \n",
       "2     (Coffee)  (Medialuna)            0.475081            0.061379  0.034939   \n",
       "3  (Medialuna)     (Coffee)            0.061379            0.475081  0.034939   \n",
       "4     (Coffee)     (Pastry)            0.475081            0.085510  0.047214   \n",
       "\n",
       "   confidence      lift  leverage  conviction  \n",
       "0    0.114399  1.109196  0.005350    1.012717  \n",
       "1    0.526958  1.109196  0.005350    1.109667  \n",
       "2    0.073542  1.198175  0.005779    1.013129  \n",
       "3    0.569231  1.198175  0.005779    1.218561  \n",
       "4    0.099382  1.162216  0.006590    1.015402  "
      ]
     },
     "execution_count": 48,
     "metadata": {},
     "output_type": "execute_result"
    }
   ],
   "source": [
    "rules_3.head()"
   ]
  },
  {
   "cell_type": "code",
   "execution_count": 35,
   "metadata": {
    "extensions": {
     "jupyter_dashboards": {
      "version": 1,
      "views": {
       "grid_default": {},
       "report_default": {}
      }
     }
    }
   },
   "outputs": [],
   "source": [
    "rules_3.to_csv('rules_3.csv')"
   ]
  },
  {
   "cell_type": "code",
   "execution_count": 30,
   "metadata": {
    "extensions": {
     "jupyter_dashboards": {
      "version": 1,
      "views": {
       "grid_default": {},
       "report_default": {}
      }
     }
    }
   },
   "outputs": [],
   "source": [
    "temp_3 = pd.read_csv('rules_3.csv')"
   ]
  },
  {
   "cell_type": "code",
   "execution_count": 31,
   "metadata": {
    "extensions": {
     "jupyter_dashboards": {
      "version": 1,
      "views": {
       "grid_default": {},
       "report_default": {}
      }
     }
    }
   },
   "outputs": [
    {
     "name": "stderr",
     "output_type": "stream",
     "text": [
      "No handles with labels found to put in legend.\n"
     ]
    },
    {
     "data": {
      "text/plain": [
       "<matplotlib.collections.PathCollection at 0x206aabb8128>"
      ]
     },
     "execution_count": 31,
     "metadata": {},
     "output_type": "execute_result"
    },
    {
     "data": {
      "image/png": "[encoded data removed]",
      "text/plain": [
       "<Figure size 432x288 with 1 Axes>"
      ]
     },
     "metadata": {
      "needs_background": "light"
     },
     "output_type": "display_data"
    }
   ],
   "source": [
    "#abc_1.plot(kind='line')\n",
    "plt.title('Support 0.03')\n",
    "plt.legend().remove()\n",
    "plt.xlabel('Confidence')\n",
    "plt.ylabel('No of rules')\n",
    "#plt.bar(abc_1[0], abc_1[1])\n",
    "#sns.countplot(x = 'confidence', data = rules_1 )\n",
    "plt.scatter(temp_3['confidence'], temp_3['Id'])"
   ]
  },
  {
   "cell_type": "code",
   "execution_count": 32,
   "metadata": {
    "extensions": {
     "jupyter_dashboards": {
      "version": 1,
      "views": {
       "grid_default": {},
       "report_default": {}
      }
     }
    }
   },
   "outputs": [
    {
     "data": {
      "text/plain": [
       "<Figure size 432x288 with 0 Axes>"
      ]
     },
     "metadata": {},
     "output_type": "display_data"
    }
   ],
   "source": [
    "plt.savefig('0.03.png')"
   ]
  },
  {
   "cell_type": "markdown",
   "metadata": {
    "extensions": {
     "jupyter_dashboards": {
      "version": 1,
      "views": {
       "grid_default": {},
       "report_default": {}
      }
     }
    }
   },
   "source": [
    "SUPPORT 0.04"
   ]
  },
  {
   "cell_type": "code",
   "execution_count": 33,
   "metadata": {
    "extensions": {
     "jupyter_dashboards": {
      "version": 1,
      "views": {
       "grid_default": {},
       "report_default": {}
      }
     }
    }
   },
   "outputs": [],
   "source": [
    "frequent_itemsets = apriori(grouping_sets, min_support=0.04, use_colnames=True)\n",
    "\n",
    "rules_4 = association_rules(frequent_itemsets, metric=\"lift\", min_threshold=1)"
   ]
  },
  {
   "cell_type": "code",
   "execution_count": 49,
   "metadata": {
    "extensions": {
     "jupyter_dashboards": {
      "version": 1,
      "views": {
       "grid_default": {},
       "report_default": {}
      }
     }
    }
   },
   "outputs": [
    {
     "data": {
      "text/html": [
       "<div>\n",
       "<style scoped>\n",
       "    .dataframe tbody tr th:only-of-type {\n",
       "        vertical-align: middle;\n",
       "    }\n",
       "\n",
       "    .dataframe tbody tr th {\n",
       "        vertical-align: top;\n",
       "    }\n",
       "\n",
       "    .dataframe thead th {\n",
       "        text-align: right;\n",
       "    }\n",
       "</style>\n",
       "<table border=\"1\" class=\"dataframe\">\n",
       "  <thead>\n",
       "    <tr style=\"text-align: right;\">\n",
       "      <th></th>\n",
       "      <th>antecedents</th>\n",
       "      <th>consequents</th>\n",
       "      <th>antecedent support</th>\n",
       "      <th>consequent support</th>\n",
       "      <th>support</th>\n",
       "      <th>confidence</th>\n",
       "      <th>lift</th>\n",
       "      <th>leverage</th>\n",
       "      <th>conviction</th>\n",
       "    </tr>\n",
       "  </thead>\n",
       "  <tbody>\n",
       "    <tr>\n",
       "      <th>0</th>\n",
       "      <td>(Coffee)</td>\n",
       "      <td>(Cake)</td>\n",
       "      <td>0.475081</td>\n",
       "      <td>0.103137</td>\n",
       "      <td>0.054349</td>\n",
       "      <td>0.114399</td>\n",
       "      <td>1.109196</td>\n",
       "      <td>0.005350</td>\n",
       "      <td>1.012717</td>\n",
       "    </tr>\n",
       "    <tr>\n",
       "      <th>1</th>\n",
       "      <td>(Cake)</td>\n",
       "      <td>(Coffee)</td>\n",
       "      <td>0.103137</td>\n",
       "      <td>0.475081</td>\n",
       "      <td>0.054349</td>\n",
       "      <td>0.526958</td>\n",
       "      <td>1.109196</td>\n",
       "      <td>0.005350</td>\n",
       "      <td>1.109667</td>\n",
       "    </tr>\n",
       "    <tr>\n",
       "      <th>2</th>\n",
       "      <td>(Coffee)</td>\n",
       "      <td>(Pastry)</td>\n",
       "      <td>0.475081</td>\n",
       "      <td>0.085510</td>\n",
       "      <td>0.047214</td>\n",
       "      <td>0.099382</td>\n",
       "      <td>1.162216</td>\n",
       "      <td>0.006590</td>\n",
       "      <td>1.015402</td>\n",
       "    </tr>\n",
       "    <tr>\n",
       "      <th>3</th>\n",
       "      <td>(Pastry)</td>\n",
       "      <td>(Coffee)</td>\n",
       "      <td>0.085510</td>\n",
       "      <td>0.475081</td>\n",
       "      <td>0.047214</td>\n",
       "      <td>0.552147</td>\n",
       "      <td>1.162216</td>\n",
       "      <td>0.006590</td>\n",
       "      <td>1.172079</td>\n",
       "    </tr>\n",
       "    <tr>\n",
       "      <th>4</th>\n",
       "      <td>(Puff)</td>\n",
       "      <td>(Coffee)</td>\n",
       "      <td>0.076802</td>\n",
       "      <td>0.475081</td>\n",
       "      <td>0.041234</td>\n",
       "      <td>0.536885</td>\n",
       "      <td>1.130091</td>\n",
       "      <td>0.004747</td>\n",
       "      <td>1.133453</td>\n",
       "    </tr>\n",
       "    <tr>\n",
       "      <th>5</th>\n",
       "      <td>(Coffee)</td>\n",
       "      <td>(Puff)</td>\n",
       "      <td>0.475081</td>\n",
       "      <td>0.076802</td>\n",
       "      <td>0.041234</td>\n",
       "      <td>0.086793</td>\n",
       "      <td>1.130091</td>\n",
       "      <td>0.004747</td>\n",
       "      <td>1.010941</td>\n",
       "    </tr>\n",
       "  </tbody>\n",
       "</table>\n",
       "</div>"
      ],
      "text/plain": [
       "  antecedents consequents  antecedent support  consequent support   support  \\\n",
       "0    (Coffee)      (Cake)            0.475081            0.103137  0.054349   \n",
       "1      (Cake)    (Coffee)            0.103137            0.475081  0.054349   \n",
       "2    (Coffee)    (Pastry)            0.475081            0.085510  0.047214   \n",
       "3    (Pastry)    (Coffee)            0.085510            0.475081  0.047214   \n",
       "4      (Puff)    (Coffee)            0.076802            0.475081  0.041234   \n",
       "5    (Coffee)      (Puff)            0.475081            0.076802  0.041234   \n",
       "\n",
       "   confidence      lift  leverage  conviction  \n",
       "0    0.114399  1.109196  0.005350    1.012717  \n",
       "1    0.526958  1.109196  0.005350    1.109667  \n",
       "2    0.099382  1.162216  0.006590    1.015402  \n",
       "3    0.552147  1.162216  0.006590    1.172079  \n",
       "4    0.536885  1.130091  0.004747    1.133453  \n",
       "5    0.086793  1.130091  0.004747    1.010941  "
      ]
     },
     "execution_count": 49,
     "metadata": {},
     "output_type": "execute_result"
    }
   ],
   "source": [
    "rules_4"
   ]
  },
  {
   "cell_type": "code",
   "execution_count": 34,
   "metadata": {
    "extensions": {
     "jupyter_dashboards": {
      "version": 1,
      "views": {
       "grid_default": {},
       "report_default": {}
      }
     }
    }
   },
   "outputs": [],
   "source": [
    "rules_4.to_csv('rules_4.csv')"
   ]
  },
  {
   "cell_type": "code",
   "execution_count": 39,
   "metadata": {
    "extensions": {
     "jupyter_dashboards": {
      "version": 1,
      "views": {
       "grid_default": {},
       "report_default": {}
      }
     }
    }
   },
   "outputs": [],
   "source": [
    "temp_4 = pd.read_csv('rules_4.csv')\n",
    "#temp_4.head()"
   ]
  },
  {
   "cell_type": "code",
   "execution_count": 40,
   "metadata": {
    "extensions": {
     "jupyter_dashboards": {
      "version": 1,
      "views": {
       "grid_default": {},
       "report_default": {}
      }
     }
    }
   },
   "outputs": [
    {
     "name": "stderr",
     "output_type": "stream",
     "text": [
      "No handles with labels found to put in legend.\n"
     ]
    },
    {
     "data": {
      "text/plain": [
       "<matplotlib.collections.PathCollection at 0x206ab1fa9e8>"
      ]
     },
     "execution_count": 40,
     "metadata": {},
     "output_type": "execute_result"
    },
    {
     "data": {
      "image/png": "[encoded data removed]",
      "text/plain": [
       "<Figure size 432x288 with 1 Axes>"
      ]
     },
     "metadata": {
      "needs_background": "light"
     },
     "output_type": "display_data"
    }
   ],
   "source": [
    "#abc_1.plot(kind='line')\n",
    "plt.title('Support 0.04')\n",
    "plt.legend().remove()\n",
    "plt.xlabel('Confidence')\n",
    "plt.ylabel('No of rules')\n",
    "#plt.bar(abc_1[0], abc_1[1])\n",
    "#sns.countplot(x = 'confidence', data = rules_1 )\n",
    "plt.scatter(temp_4['confidence'], temp_4['Id'])"
   ]
  },
  {
   "cell_type": "code",
   "execution_count": 41,
   "metadata": {},
   "outputs": [
    {
     "data": {
      "text/plain": [
       "<Figure size 432x288 with 0 Axes>"
      ]
     },
     "metadata": {},
     "output_type": "display_data"
    }
   ],
   "source": [
    "plt.savefig('0.04.png')"
   ]
  },
  {
   "cell_type": "code",
   "execution_count": null,
   "metadata": {},
   "outputs": [],
   "source": []
  },
  {
   "cell_type": "markdown",
   "metadata": {
    "extensions": {
     "jupyter_dashboards": {
      "version": 1,
      "views": {
       "grid_default": {},
       "report_default": {}
      }
     }
    }
   },
   "source": [
    "SUPPORT 0.05"
   ]
  },
  {
   "cell_type": "code",
   "execution_count": 42,
   "metadata": {
    "extensions": {
     "jupyter_dashboards": {
      "version": 1,
      "views": {
       "grid_default": {},
       "report_default": {}
      }
     }
    }
   },
   "outputs": [],
   "source": [
    "frequent_itemsets = apriori(grouping_sets, min_support=0.05, use_colnames=True)\n",
    "\n",
    "rules_5 = association_rules(frequent_itemsets, metric=\"lift\", min_threshold=1)"
   ]
  },
  {
   "cell_type": "code",
   "execution_count": 50,
   "metadata": {
    "extensions": {
     "jupyter_dashboards": {
      "version": 1,
      "views": {
       "grid_default": {},
       "report_default": {}
      }
     }
    }
   },
   "outputs": [
    {
     "data": {
      "text/html": [
       "<div>\n",
       "<style scoped>\n",
       "    .dataframe tbody tr th:only-of-type {\n",
       "        vertical-align: middle;\n",
       "    }\n",
       "\n",
       "    .dataframe tbody tr th {\n",
       "        vertical-align: top;\n",
       "    }\n",
       "\n",
       "    .dataframe thead th {\n",
       "        text-align: right;\n",
       "    }\n",
       "</style>\n",
       "<table border=\"1\" class=\"dataframe\">\n",
       "  <thead>\n",
       "    <tr style=\"text-align: right;\">\n",
       "      <th></th>\n",
       "      <th>antecedents</th>\n",
       "      <th>consequents</th>\n",
       "      <th>antecedent support</th>\n",
       "      <th>consequent support</th>\n",
       "      <th>support</th>\n",
       "      <th>confidence</th>\n",
       "      <th>lift</th>\n",
       "      <th>leverage</th>\n",
       "      <th>conviction</th>\n",
       "    </tr>\n",
       "  </thead>\n",
       "  <tbody>\n",
       "    <tr>\n",
       "      <th>0</th>\n",
       "      <td>(Coffee)</td>\n",
       "      <td>(Cake)</td>\n",
       "      <td>0.475081</td>\n",
       "      <td>0.103137</td>\n",
       "      <td>0.054349</td>\n",
       "      <td>0.114399</td>\n",
       "      <td>1.109196</td>\n",
       "      <td>0.00535</td>\n",
       "      <td>1.012717</td>\n",
       "    </tr>\n",
       "    <tr>\n",
       "      <th>1</th>\n",
       "      <td>(Cake)</td>\n",
       "      <td>(Coffee)</td>\n",
       "      <td>0.103137</td>\n",
       "      <td>0.475081</td>\n",
       "      <td>0.054349</td>\n",
       "      <td>0.526958</td>\n",
       "      <td>1.109196</td>\n",
       "      <td>0.00535</td>\n",
       "      <td>1.109667</td>\n",
       "    </tr>\n",
       "  </tbody>\n",
       "</table>\n",
       "</div>"
      ],
      "text/plain": [
       "  antecedents consequents  antecedent support  consequent support   support  \\\n",
       "0    (Coffee)      (Cake)            0.475081            0.103137  0.054349   \n",
       "1      (Cake)    (Coffee)            0.103137            0.475081  0.054349   \n",
       "\n",
       "   confidence      lift  leverage  conviction  \n",
       "0    0.114399  1.109196   0.00535    1.012717  \n",
       "1    0.526958  1.109196   0.00535    1.109667  "
      ]
     },
     "execution_count": 50,
     "metadata": {},
     "output_type": "execute_result"
    }
   ],
   "source": [
    "rules_5"
   ]
  },
  {
   "cell_type": "code",
   "execution_count": 45,
   "metadata": {
    "extensions": {
     "jupyter_dashboards": {
      "version": 1,
      "views": {
       "grid_default": {},
       "report_default": {}
      }
     }
    }
   },
   "outputs": [],
   "source": [
    " rules_5.to_csv('rules_5.csv')"
   ]
  },
  {
   "cell_type": "code",
   "execution_count": 44,
   "metadata": {
    "extensions": {
     "jupyter_dashboards": {
      "version": 1,
      "views": {
       "grid_default": {},
       "report_default": {}
      }
     }
    }
   },
   "outputs": [],
   "source": [
    "temp_5 = pd.read_csv('rules_5.csv')"
   ]
  },
  {
   "cell_type": "code",
   "execution_count": 45,
   "metadata": {
    "extensions": {
     "jupyter_dashboards": {
      "version": 1,
      "views": {
       "grid_default": {},
       "report_default": {}
      }
     }
    }
   },
   "outputs": [
    {
     "name": "stderr",
     "output_type": "stream",
     "text": [
      "No handles with labels found to put in legend.\n"
     ]
    },
    {
     "data": {
      "text/plain": [
       "<matplotlib.collections.PathCollection at 0x206aaeba0b8>"
      ]
     },
     "execution_count": 45,
     "metadata": {},
     "output_type": "execute_result"
    },
    {
     "data": {
      "image/png": "[encoded data removed]",
      "text/plain": [
       "<Figure size 432x288 with 1 Axes>"
      ]
     },
     "metadata": {
      "needs_background": "light"
     },
     "output_type": "display_data"
    }
   ],
   "source": [
    "#abc_1.plot(kind='line')\n",
    "plt.title('Support 0.05')\n",
    "plt.legend().remove()\n",
    "plt.xlabel('Confidence')\n",
    "plt.ylabel('No of rules')\n",
    "#plt.bar(abc_1[0], abc_1[1])\n",
    "#sns.countplot(x = 'confidence', data = rules_1 )\n",
    "plt.scatter(temp_5['confidence'], temp_5['Id'])"
   ]
  },
  {
   "cell_type": "code",
   "execution_count": 46,
   "metadata": {
    "extensions": {
     "jupyter_dashboards": {
      "version": 1,
      "views": {
       "grid_default": {},
       "report_default": {}
      }
     }
    }
   },
   "outputs": [
    {
     "data": {
      "text/plain": [
       "<Figure size 432x288 with 0 Axes>"
      ]
     },
     "metadata": {},
     "output_type": "display_data"
    }
   ],
   "source": [
    "plt.savefig('0.05.png')"
   ]
  },
  {
   "cell_type": "code",
   "execution_count": null,
   "metadata": {},
   "outputs": [],
   "source": []
  }
 ],
 "metadata": {
  "extensions": {
   "jupyter_dashboards": {
    "activeView": "grid_default",
    "version": 1,
    "views": {
     "grid_default": {
      "cellMargin": 10,
      "defaultCellHeight": 20,
      "maxColumns": 12,
      "name": "grid",
      "type": "grid"
     },
     "report_default": {
      "name": "report",
      "type": "report"
     }
    }
   }
  },
  "kernelspec": {
   "display_name": "Python 3",
   "language": "python",
   "name": "python3"
  },
  "language_info": {
   "codemirror_mode": {
    "name": "ipython",
    "version": 3
   },
   "file_extension": ".py",
   "mimetype": "text/x-python",
   "name": "python",
   "nbconvert_exporter": "python",
   "pygments_lexer": "ipython3",
   "version": "3.6.5"
  }
 },
 "nbformat": 4,
 "nbformat_minor": 2
}
